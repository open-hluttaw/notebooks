{
 "cells": [
  {
   "cell_type": "markdown",
   "metadata": {},
   "source": [
    "## Getting Information for Person via Open Hluttaw API"
   ]
  },
  {
   "cell_type": "code",
   "execution_count": 59,
   "metadata": {
    "collapsed": false
   },
   "outputs": [
    {
     "name": "stdout",
     "output_type": "stream",
     "text": [
      "Name: Soe Myint (or)  Aung Zaw Myint\n",
      "Birthdate: 1952-10-12\n",
      "Gender: male\n",
      "\n",
      "Contacts:\n",
      "\n",
      "Mobile: 09 2001 140\n",
      "SMS: 09 2001 140\n",
      "Email: agzawmyint1952@gmail.com\n",
      "Phone Number: 09 7920 01140\n",
      "\n",
      "Photo URL: http://goo.gl/8GeW53\n"
     ]
    }
   ],
   "source": [
    "import requests\n",
    "\n",
    "person_req = requests.get('http://api.openhluttaw.org/en/persons/e5029cbf865f48e1b2e6e65e08d6c64e')\n",
    "person = person_req.json()['result']\n",
    "\n",
    "print 'Name: ' + person['name']\n",
    "print 'Birthdate: ' + person['birth_date']\n",
    "print 'Gender: ' + person['gender'] + \"\\n\"\n",
    "\n",
    "print \"Contacts:\\n\"\n",
    "for contacts in person['contact_details']:\n",
    "    print contacts['label'] +\": \" + contacts['value']\n",
    "    \n",
    "print \"\\nPhoto URL: \" + person['image']\n",
    "    "
   ]
  },
  {
   "cell_type": "code",
   "execution_count": 64,
   "metadata": {
    "collapsed": false
   },
   "outputs": [
    {
     "name": "stdout",
     "output_type": "stream",
     "text": [
      "Soe Myint (or)  Aung Zaw Myint is,\n",
      "Member of Pyithu Hluttaw as MP on behalf of National League for Democracy\n",
      "\n",
      "Soe Myint (or)  Aung Zaw Myint is,\n",
      "Member of Pyithu Hluttaw Electric Power and Development Committee as Committee Member on behalf of National League for Democracy\n",
      "\n"
     ]
    }
   ],
   "source": [
    "#memberships\n",
    "\n",
    "for member in person['memberships']:\n",
    "    print person['name'] + \" is,\"\n",
    "    on_behalf_req = requests.get('http://api.openhluttaw.org/en/organizations/'+ member['on_behalf_of_id'])\n",
    "    on_behalf_of = on_behalf_req.json()['result']['name'] + '\\n'\n",
    "    \n",
    "    print \"Member of \" + member['organization']['name'] + \" as \" + member['role'] + \" on behalf of \" + \\\n",
    "          on_behalf_of\n",
    "    \n"
   ]
  },
  {
   "cell_type": "code",
   "execution_count": 57,
   "metadata": {
    "collapsed": false
   },
   "outputs": [
    {
     "name": "stdout",
     "output_type": "stream",
     "text": [
      "စိုးမြင့်(ခ)အောင်ဇော်မြင့်\n",
      "1952-10-12\n",
      "ကျား\n",
      "Contacts:\n",
      "\n",
      "09 2001 140\n",
      "09 2001 140\n",
      "agzawmyint1952@gmail.com\n",
      "09 7920 01140\n",
      "Member of ပြည်သူ့လွှတ်တော်\n",
      "Member of ပြည်သူ့လွှတ်တော် လှျပ်စစ်စွမ်းအင်နှင့် ဖွံ့ဖြိုးတိုးတက်ရေးကော်မတီ\n"
     ]
    }
   ],
   "source": [
    "person_req = requests.get('http://api.openhluttaw.org/my/persons/e5029cbf865f48e1b2e6e65e08d6c64e')\n",
    "person = person_req.json()['result']\n",
    "\n",
    "print person['name']\n",
    "print person['birth_date']\n",
    "print person['gender']\n",
    "\n",
    "print \"Contacts:\\n\"\n",
    "for contacts in person['contact_details']:\n",
    "    print contacts['value']\n",
    "    \n",
    "#memberships\n",
    "\n",
    "for member in person['memberships']:\n",
    "    on_behalf_req = requests.get('http://api.openhluttaw.org/my/organizations/'+ member['on_behalf_of_id'])\n",
    "    on_behalf_of = on_behalf_req.json()['result']['name']\n",
    "    \n",
    "    print \"Member of \" + member['organization']['name']"
   ]
  },
  {
   "cell_type": "markdown",
   "metadata": {},
   "source": [
    "![Portrait]( http://goo.gl/8GeW53)"
   ]
  }
 ],
 "metadata": {
  "kernelspec": {
   "display_name": "Python 2",
   "language": "python",
   "name": "python2"
  },
  "language_info": {
   "codemirror_mode": {
    "name": "ipython",
    "version": 2
   },
   "file_extension": ".py",
   "mimetype": "text/x-python",
   "name": "python",
   "nbconvert_exporter": "python",
   "pygments_lexer": "ipython2",
   "version": "2.7.12"
  }
 },
 "nbformat": 4,
 "nbformat_minor": 0
}
