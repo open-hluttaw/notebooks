{
 "cells": [
  {
   "cell_type": "code",
   "execution_count": 38,
   "metadata": {
    "collapsed": false
   },
   "outputs": [
    {
     "name": "stdout",
     "output_type": "stream",
     "text": [
      "Soe Myint (or)  Aung Zaw Myint\n",
      "1952-10-12\n",
      "male\n",
      "\n",
      "Contacts:\n",
      "\n",
      "Mobile\n",
      "09 2001 140\n",
      "SMS\n",
      "09 2001 140\n",
      "SMS\n",
      "09 2001 140\n",
      "Email\n",
      "agzawmyint1952@gmail.com\n",
      "Phone Number\n",
      "09 7920 01140\n",
      "\n",
      " Photo URLhttps://storage.googleapis.com/staticassets/candidate-photos/Scan_F_20150826_0020.jpg\n"
     ]
    }
   ],
   "source": [
    "import requests\n",
    "import json\n",
    "\n",
    "person_req = requests.get('http://api.openhluttaw.org/en/persons/e5029cbf865f48e1b2e6e65e08d6c64e')\n",
    "person = json.loads(person_req.content)['result']\n",
    "\n",
    "print person['name']\n",
    "print person['birth_date']\n",
    "print person['gender'] + \"\\n\"\n",
    "\n",
    "print \"Contacts:\\n\"\n",
    "for contacts in person['contact_details']:\n",
    "    print contacts['label']\n",
    "    print contacts['value']\n",
    "    \n",
    "print \"\\n Photo URL: \" + person['image']\n",
    "    "
   ]
  },
  {
   "cell_type": "markdown",
   "metadata": {},
   "source": [
    "![alt text](https://storage.googleapis.com/staticassets/candidate-photos/Scan_F_20150826_0020.jpg)"
   ]
  },
  {
   "cell_type": "code",
   "execution_count": null,
   "metadata": {
    "collapsed": true
   },
   "outputs": [],
   "source": []
  }
 ],
 "metadata": {
  "kernelspec": {
   "display_name": "Python 2",
   "language": "python",
   "name": "python2"
  },
  "language_info": {
   "codemirror_mode": {
    "name": "ipython",
    "version": 2
   },
   "file_extension": ".py",
   "mimetype": "text/x-python",
   "name": "python",
   "nbconvert_exporter": "python",
   "pygments_lexer": "ipython2",
   "version": "2.7.11+"
  }
 },
 "nbformat": 4,
 "nbformat_minor": 0
}
