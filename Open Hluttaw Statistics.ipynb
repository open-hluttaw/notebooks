{
 "cells": [
  {
   "cell_type": "markdown",
   "metadata": {},
   "source": [
    "# Hluttaw Statistics"
   ]
  },
  {
   "cell_type": "code",
   "execution_count": 12,
   "metadata": {
    "collapsed": false
   },
   "outputs": [],
   "source": [
    "import requests\n",
    "import json\n",
    "\n",
    "#Getting total number of pages via REST request\n",
    "page_request = requests.get('http://api.openhluttaw.org/en/persons')\n",
    "pages = page_request.json()['num_pages']\n",
    "\n",
    "#Fetch and build list of all representatives\n",
    "persons =[]\n",
    "for page in range(1,pages+1):\n",
    "    req_representatives = requests.get('http://api.openhluttaw.org/en/persons?page='+str(page))\n",
    "    for person in json.loads(req_representatives.content)['results']:\n",
    "        persons.append(person)\n",
    "        \n"
   ]
  },
  {
   "cell_type": "code",
   "execution_count": 23,
   "metadata": {
    "collapsed": false
   },
   "outputs": [],
   "source": [
    "import datetime\n",
    "from dateutil import parser\n",
    "\n",
    "def age(str):\n",
    "    #calculate age based on date strings stored in Popit\n",
    "    born = parser.parse(str)\n",
    "    today = datetime.date.today()\n",
    "    age = today.year - born.year - ((today.month, today.day) < (born.month, born.day)) \n",
    "    return int(age)\n",
    "\n",
    "for person in persons:\n",
    "    if person['birth_date']:\n",
    "        person['age'] = age(person['birth_date'])"
   ]
  },
  {
   "cell_type": "markdown",
   "metadata": {},
   "source": [
    "## Age Stats"
   ]
  },
  {
   "cell_type": "code",
   "execution_count": 35,
   "metadata": {
    "collapsed": false
   },
   "outputs": [
    {
     "name": "stdout",
     "output_type": "stream",
     "text": [
      "Median: 55.0\n",
      "Youngest: 27\n",
      "Oldest: 81\n"
     ]
    }
   ],
   "source": [
    "import pandas\n",
    "data = { \"age\": [], \"birth_date\":[] }\n",
    "data_index = { \"age\": [], \"birth_date\":[]}\n",
    "\n",
    "for entry in persons:\n",
    "    if entry.has_key('age'):\n",
    "        data[\"age\"].append(entry[\"age\"])\n",
    "        data_index[\"age\"].append(entry[\"name\"])\n",
    "        data[\"birth_date\"].append(entry[\"birth_date\"])\n",
    "        data_index[\"birth_date\"].append(entry[\"name\"])\n",
    "        \n",
    "\n",
    "final_data = { \"age\": pandas.Series(data[\"age\"], index=data_index[\"age\"]),\n",
    "                \"birth_date\": pandas.Series(data[\"birth_date\"], index=data_index[\"birth_date\"])\n",
    "             }\n",
    "persons_age_df = pandas.DataFrame(final_data)\n",
    "persons_age_df.sort_values(by=\"age\")\n",
    "\n",
    "print \"Median:\" + \" \" + str(persons_age_df['age'].median())\n",
    "print \"Youngest:\" + \" \" + str(persons_age_df['age'].min())\n",
    "print \"Oldest:\" + \" \" + str(persons_age_df['age'].max())"
   ]
  },
  {
   "cell_type": "code",
   "execution_count": 32,
   "metadata": {
    "collapsed": false
   },
   "outputs": [
    {
     "data": {
      "text/plain": [
       "<matplotlib.axes._subplots.AxesSubplot at 0x7f7bdebfbb50>"
      ]
     },
     "execution_count": 32,
     "metadata": {},
     "output_type": "execute_result"
    },
    {
     "data": {
      "image/png": "[encoded data removed]",
      "text/plain": [
       "<matplotlib.figure.Figure at 0x7f7bdebfb390>"
      ]
     },
     "metadata": {},
     "output_type": "display_data"
    }
   ],
   "source": [
    "%matplotlib inline \n",
    "persons_age_df[\"age\"].plot(kind=\"hist\",figsize=(15,15))"
   ]
  },
  {
   "cell_type": "markdown",
   "metadata": {},
   "source": [
    "# Gender"
   ]
  },
  {
   "cell_type": "code",
   "execution_count": 46,
   "metadata": {
    "collapsed": false
   },
   "outputs": [
    {
     "name": "stdout",
     "output_type": "stream",
     "text": [
      "Number of Women reps 65\n",
      "Percentage of Women representatives 13.05%\n"
     ]
    }
   ],
   "source": [
    "women_reps = []\n",
    "for person in persons:\n",
    "    if person['gender'] == 'female':\n",
    "        women_reps.append(person)\n",
    "\n",
    "print \"Number of Women reps \" + str(len(women_reps))     \n",
    "\n",
    "print \"Percentage of Women representatives \" + \"{0:.2f}\".format(65/498.0*100)+\"%\""
   ]
  },
  {
   "cell_type": "code",
   "execution_count": null,
   "metadata": {
    "collapsed": true
   },
   "outputs": [],
   "source": []
  }
 ],
 "metadata": {
  "kernelspec": {
   "display_name": "Python 2",
   "language": "python",
   "name": "python2"
  },
  "language_info": {
   "codemirror_mode": {
    "name": "ipython",
    "version": 2
   },
   "file_extension": ".py",
   "mimetype": "text/x-python",
   "name": "python",
   "nbconvert_exporter": "python",
   "pygments_lexer": "ipython2",
   "version": "2.7.11+"
  }
 },
 "nbformat": 4,
 "nbformat_minor": 0
}
